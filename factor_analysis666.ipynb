{
 "cells": [
  {
   "cell_type": "code",
   "execution_count": 12,
   "metadata": {},
   "outputs": [],
   "source": [
    "                                      #Factor Analysis"
   ]
  },
  {
   "cell_type": "code",
   "execution_count": 13,
   "metadata": {},
   "outputs": [],
   "source": [
    "#Import Library\n",
    "\n",
    "import numpy as np\n",
    "import matplotlib.pyplot as plt"
   ]
  },
  {
   "cell_type": "code",
   "execution_count": 14,
   "metadata": {},
   "outputs": [],
   "source": [
    "#Reading Data\n",
    "\n",
    "data= np.genfromtxt('College.csv',delimiter=',')\n",
    "data=np.delete(data, np.s_[0:1], axis=1)\n",
    "data=np.delete(data, np.s_[0], axis=0)\n",
    "data=np.delete(data,np.s_[0], axis=1) "
   ]
  },
  {
   "cell_type": "code",
   "execution_count": 15,
   "metadata": {},
   "outputs": [],
   "source": [
    "#Finding mean of the data\n",
    "\n",
    "mean=np.mean(data,axis=0)"
   ]
  },
  {
   "cell_type": "code",
   "execution_count": 16,
   "metadata": {},
   "outputs": [],
   "source": [
    "#Resultant matrix for factor analysis\n",
    "\n",
    "data_1=data-mean\n",
    "A=data_1.T"
   ]
  },
  {
   "cell_type": "code",
   "execution_count": 17,
   "metadata": {},
   "outputs": [],
   "source": [
    "#Covariance matrix of A\n",
    "\n",
    "Cov=np.matmul(A,A.T)/(A.shape[1])\n"
   ]
  },
  {
   "cell_type": "code",
   "execution_count": 18,
   "metadata": {},
   "outputs": [
    {
     "name": "stdout",
     "output_type": "stream",
     "text": [
      "[4.29825479e+07 3.77569766e+07 6.23689168e+06 2.91477064e+06\n",
      " 1.44029209e+06 6.20595988e+05 3.72061680e+05 3.26696831e+05\n",
      " 3.92310130e+04 2.52842816e+04 4.25655566e+02 2.09285813e+02\n",
      " 1.57188461e+02 8.07916105e+01 8.42742073e+00 3.59366040e+01\n",
      " 2.69496869e+01]\n"
     ]
    }
   ],
   "source": [
    "#Finding Eigen value and Eigen vector\n",
    "\n",
    "w, v = np.linalg.eig(Cov) \n",
    "print(w)"
   ]
  },
  {
   "cell_type": "code",
   "execution_count": 19,
   "metadata": {},
   "outputs": [],
   "source": [
    "#Scree plot\n",
    "\n",
    "xval=range(1,data.shape[1]+1)"
   ]
  },
  {
   "cell_type": "code",
   "execution_count": 20,
   "metadata": {},
   "outputs": [
    {
     "data": {
      "image/png": "[encoded data removed]",
      "text/plain": [
       "<Figure size 432x288 with 1 Axes>"
      ]
     },
     "metadata": {
      "needs_background": "light"
     },
     "output_type": "display_data"
    }
   ],
   "source": [
    "plt.scatter(xval,w)\n",
    "plt.plot(xval,w)\n",
    "plt.title('Scree plot')\n",
    "plt.xlabel('Factor')\n",
    "plt.ylabel('Eigenvalue')\n",
    "plt.grid()\n",
    "plt.show()"
   ]
  },
  {
   "cell_type": "code",
   "execution_count": 22,
   "metadata": {},
   "outputs": [
    {
     "name": "stdout",
     "output_type": "stream",
     "text": [
      "[[6556.10767754    0.            0.        ]\n",
      " [   0.         6144.67058682    0.        ]\n",
      " [   0.            0.         2497.37696051]]\n"
     ]
    }
   ],
   "source": [
    "#Taking factors as 3, finding corresponding eigen value and eigen vector matrix\n",
    "\n",
    "eig_dia=np.array([np.sqrt(w[0]),np.sqrt(w[1]),np.sqrt(w[2])])\n",
    "eig_dia_m=np.diag(eig_dia)\n",
    "eig_vec_m=v[0:3,0:17]\n",
    "eig_vec_m=eig_vec_m.T\n",
    "print(eig_dia_m)"
   ]
  },
  {
   "cell_type": "code",
   "execution_count": 24,
   "metadata": {},
   "outputs": [
    {
     "name": "stdout",
     "output_type": "stream",
     "text": [
      "[[ 3.65192418e+03  2.13657550e+03  3.24294486e+02]\n",
      " [ 2.58052978e+02  4.74135214e+02  1.13413041e+02]\n",
      " [-1.09718593e+03 -9.97670188e+02 -2.41332362e+01]\n",
      " [-4.35503336e+03 -1.43126133e+03  1.46926557e+02]\n",
      " [-1.07970481e+03 -3.56750450e+01  1.60024241e+02]\n",
      " [-3.80582111e+02 -3.70405174e+02 -5.32114961e+01]\n",
      " [-8.80764564e+02  1.47445879e+03  1.02120679e+02]\n",
      " [ 2.69976266e+03 -5.17262656e+03 -2.95610762e+02]\n",
      " [-1.79682486e+02  9.21637354e+02 -2.44320791e+03]\n",
      " [-2.46532028e+01  3.57842386e+01 -1.92805085e+01]\n",
      " [-2.87719670e+01  5.05913553e+01 -1.76955876e+01]\n",
      " [ 1.98112823e+01 -3.29800087e+01  1.72963472e+01]\n",
      " [ 3.47958449e+00 -1.08123795e+01 -3.28939050e+00]\n",
      " [ 2.62766407e+00  6.60899010e+00 -8.73391446e+00]\n",
      " [-1.22498834e+00  1.42907775e+00  1.55925352e-01]\n",
      " [ 3.85862044e+00 -7.68495586e+00  6.53979820e+00]\n",
      " [-7.39475941e+00  1.51994272e+01 -7.74690955e+00]]\n"
     ]
    }
   ],
   "source": [
    "#Finding Loading matrix\n",
    "\n",
    "loading_mat=np.matmul(eig_vec_m,eig_dia_m)\n",
    "print(loading_mat)"
   ]
  },
  {
   "cell_type": "code",
   "execution_count": 25,
   "metadata": {},
   "outputs": [
    {
     "name": "stdout",
     "output_type": "stream",
     "text": [
      "[[ -24.30120475 -570.47656802   36.03926059 ... -713.52799389\n",
      "  -128.00031593  -32.09655146]\n",
      " [  -1.24442494 -216.86796941   21.78409042 ... -235.21975692\n",
      "   -80.18851155   13.8893533 ]\n",
      " [   1.37367984   -1.69222221    3.13213875 ...   20.6289958\n",
      "   -16.10548236    4.80484248]]\n"
     ]
    }
   ],
   "source": [
    "#Finding Factor matrix\n",
    "\n",
    "Cov_inv=np.linalg.inv(Cov)\n",
    "fact=np.matmul(Cov_inv,loading_mat)\n",
    "fact=fact.T\n",
    "fact_mat=np.matmul(fact,A)\n",
    "print(fact_mat)"
   ]
  },
  {
   "cell_type": "code",
   "execution_count": null,
   "metadata": {},
   "outputs": [],
   "source": []
  }
 ],
 "metadata": {
  "kernelspec": {
   "display_name": "Python 3",
   "language": "python",
   "name": "python3"
  },
  "language_info": {
   "codemirror_mode": {
    "name": "ipython",
    "version": 3
   },
   "file_extension": ".py",
   "mimetype": "text/x-python",
   "name": "python",
   "nbconvert_exporter": "python",
   "pygments_lexer": "ipython3",
   "version": "3.7.3"
  }
 },
 "nbformat": 4,
 "nbformat_minor": 2
}
